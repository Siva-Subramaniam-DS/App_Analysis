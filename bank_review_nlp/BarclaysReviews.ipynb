{
 "cells": [
  {
   "cell_type": "code",
   "execution_count": 1,
   "id": "d4ebee17-dce7-4bdf-8872-78c53fd229ba",
   "metadata": {},
   "outputs": [],
   "source": [
    "#pip install selenium"
   ]
  },
  {
   "cell_type": "code",
   "execution_count": 17,
   "id": "ae9d6266-1475-4b6c-844d-ad93d27adcdf",
   "metadata": {},
   "outputs": [
    {
     "name": "stdout",
     "output_type": "stream",
     "text": [
      "20\n"
     ]
    },
    {
     "data": {
      "text/plain": [
       "20"
      ]
     },
     "execution_count": 17,
     "metadata": {},
     "output_type": "execute_result"
    }
   ],
   "source": [
    "from selenium import webdriver\n",
    "from selenium.webdriver.common.by import By\n",
    "from time import sleep\n",
    "\n",
    "def get_feedbacks():\n",
    "    driver = webdriver.Chrome() \n",
    "    driver.get(\"https://play.google.com/store/games?device=windows&pli=1\")\n",
    "    driver.find_element(\"xpath\", \"//i[text()='search']\").click()\n",
    "    sleep(2)\n",
    "    driver.find_element(\"xpath\", \"//input[@aria-label='Search Google Play']\").send_keys(\"Barclays\")\n",
    "    sleep(2)\n",
    "    driver.find_element(\"xpath\", \"//b[text()='barclays']\").click()\n",
    "    sleep(2)\n",
    "    driver.find_element(\"xpath\", \"//div[@class='g1rdde']/..//../..//img[1]\").click()\n",
    "    sleep(2)\n",
    "    driver.find_element(\"xpath\", \"//h2[text()='Ratings and reviews']/../..//i[text()='arrow_forward']\").click()\n",
    "    sleep(2)\n",
    "    name=driver.find_elements(\"xpath\", \"//div[@role='dialog']//div[@class='RHo1pe']/div[1]\")\n",
    "    \n",
    "    print(len(name))\n",
    "    \n",
    "    feedbacks=[]\n",
    "    for individual_text in name:\n",
    "       # print(\"--------------\")\n",
    "       # print(individual_text.text)\n",
    "        individual_feedback=individual_text.text\n",
    "       # print(\"--------------\")\n",
    "        individual_text.size\n",
    "        feedbacks.append(individual_feedback)\n",
    "    \n",
    "   # print(feedbacks)\n",
    "    \n",
    "    driver.quit()\n",
    "    return feedbacks\n",
    "\n",
    "def get_all_feedbacks():\n",
    "    driver = webdriver.Chrome() \n",
    "    driver.get(\"https://play.google.com/store/games?device=windows&pli=1\")\n",
    "    driver.find_element(\"xpath\", \"//i[text()='search']\").click()\n",
    "    sleep(2)\n",
    "    driver.find_element(\"xpath\", \"//input[@aria-label='Search Google Play']\").send_keys(\"Barclays\")\n",
    "    sleep(2)\n",
    "    driver.find_element(\"xpath\", \"//b[text()='barclays']\").click()\n",
    "    sleep(2)\n",
    "    driver.find_element(\"xpath\", \"//a[contains(@href,'barclaysmobilebanking')]\").click()\n",
    "    sleep(2)\n",
    "    driver.find_element(\"xpath\", \"//h2[text()='Ratings and reviews']/../..//i[text()='arrow_forward']\").click()\n",
    "    sleep(2)\n",
    "    # Find the popup div element\n",
    "    popup_div = driver.find_element(By.XPATH, \"//div[@role='dialog']//div[@class='RHo1pe']/div\")\n",
    "    \n",
    "    # Scroll and collect feedbacks\n",
    "    feedbacks = []\n",
    "    last_height = driver.execute_script(\"return arguments[0].scrollHeight\", popup_div)\n",
    "    while True:\n",
    "        # Find all the elements within the popup\n",
    "        name_elements = driver.find_elements(By.XPATH, \"//div[@role='dialog']//div[@class='RHo1pe']/div[1]\")\n",
    "        \n",
    "        # Collect feedback texts\n",
    "        for individual_text in name_elements:\n",
    "            individual_feedback = individual_text.text\n",
    "            if individual_feedback not in feedbacks:  # To avoid duplicates\n",
    "                feedbacks.append(individual_feedback)\n",
    "    \n",
    "        # Scroll down within the popup div\n",
    "        driver.execute_script(\"arguments[0].scrollTop = arguments[0].scrollHeight\", popup_div)\n",
    "    \n",
    "        # Wait for new elements to load\n",
    "        sleep(2)  # adjust time as necessary based on your page load speed\n",
    "    \n",
    "        # Calculate new scroll height and compare with the last scroll height\n",
    "        new_height = driver.execute_script(\"return arguments[0].scrollHeight\", popup_div)\n",
    "        if new_height == last_height:\n",
    "            break  # If heights are the same, exit the loop\n",
    "        last_height = new_height\n",
    "    \n",
    "    # Print the number of feedbacks collected\n",
    "    print(len(feedbacks))\n",
    "    \n",
    "    driver.quit()\n",
    "    return feedbacks\n",
    "\n",
    "\n",
    "\n",
    "review_text=get_all_feedbacks()\n",
    "len(review_text)"
   ]
  },
  {
   "cell_type": "code",
   "execution_count": 3,
   "id": "07620bcf-376a-4738-aad3-1f00ebe38a89",
   "metadata": {},
   "outputs": [
    {
     "name": "stdout",
     "output_type": "stream",
     "text": [
      "                                                    0\n",
      "0                         The app is very good to use\n",
      "1   Very difficult to switch to another device, ev...\n",
      "2   Hilariously bad banking app. If you view a dif...\n",
      "3   Very buggy. Constant 'something went wrong' - ...\n",
      "4   Stay away from this bank. You will regret to b...\n",
      "5   Very easy to use, works well, no problems. I l...\n",
      "6   Just ok. It's too long to log in. - Payees kee...\n",
      "7   Excellent app!! Can't recall when was last tim...\n",
      "8   Easy and straight forward to use. Quicker than...\n",
      "9   Excellent app, can do everything I need to do ...\n",
      "10  The entire partner finance section just crashe...\n",
      "11  Have found it very useful, and easy to transfe...\n",
      "12  I didn't want to do online banking, but due to...\n",
      "13  Truly dreadful experience. It may actually wor...\n",
      "14  Minimise the app & it shuts down. The log out ...\n",
      "15  I am very pleased to see that Barclays has imp...\n",
      "16  I like the app in general, but there is just o...\n",
      "17  Very little information or options available, ...\n",
      "18  Normally a great app, but last couple of days ...\n",
      "19  Generally good. Any problems I have arise from...\n",
      "20  Iv used this for nearly as long as it has been...\n"
     ]
    }
   ],
   "source": [
    "import pandas as pd\n",
    "#GET FEEDBACK REVIEW FROM GOOGLE PLAY STORE FOR \"BARCLAYS ANDROID APP\"\n",
    "#review_text=get_feedbacks()\n",
    "review_text=[\"The app is very good to use\",\"Very difficult to switch to another device, even if you have the old one present. It crashed during the process, failed to generate an activation code, failed to read the debit card and then forced me to photo my drivers license and record a video and still didn't complete the setup. Frustrating bad. That said, when it is setup it is adequate at providing basic banking functionality.\", \"Hilariously bad banking app. If you view a different app while doing something (say to coppy bank details or whatever) this app cancels whatever you were trying to do and either closes or returns to the home screen. You can't long-press to paste either so you need to make use of your phone's keyboard app and copy everything you need to the clipboard in advance. It's a comedy bad user experience.\", \"Very buggy. Constant 'something went wrong' - it won't be worth paying for Blue Rewards at this rate because 'something went wrong' with cashback, 'something went wrong' with appletv. Not seen much going right... App also closes or goes back whenever you change to another screen which is frustrating and other banking apps don't do this. It has got even worse. I signed up for the current account switch, now when I open the app it doesn't seem to remember the account i just opened\", 'Stay away from this bank. You will regret to be a customer of Barclays every time you need to get a service. So secure that is annoying. Can not copy entered text from the input view, can not past the text. When switch to another app and come back input is erased and chat is lost! No ability to edit text after it is sent. Horrible application and horrible service. Representatives asking the same questions every time. In Barclays UK I had the worst banking experience in my life.', 'Very easy to use, works well, no problems. I love the tips that link you to the website (eg suggestion about saving) as well as how easy it is to find all the info about each product. Very recommended! I faced some problems in 2019 as the app was not compatible with the mobile phone (Huawei P9 Lite). Apart with that specific phone, no problems at all', \"Just ok. It's too long to log in. - Payees keep dropping from the trusted payee list. It's very annoying! I pay someone different amounts every months and his name and details keep dropping off the list. Smart Investor side of the app is basic and doesn't have all the features of online banking. It also doesn't compare well with other investment apps. Cards control feature very basic too. App could be much improved, but I haven't seen any significant change for the past few years.\", \"Excellent app!! Can't recall when was last time I went to the bank. Would be great if we could transfer money to Africa directly from this app. I absolutely love this app, i have been using it for years, and i have zero complaints regarding it. It saves you time to go queue up in the bank..just excelente app! Is it possible to enable customers to delete the list of families and friends' money transferred lists, please? Overall, excellent! Great app\", \"Easy and straight forward to use. Quicker than waiting for lap top to boot up. Better if not in and on the go and partner needs money straight away. But not all payee list shows up as on lap top?only down side is when you make a transfer or payment and wish to make another your balance doesn't update until you log out and back in again? ???since last reviewed. Balance after making transfer or payment still doesn't show new balance until you log out and in again. That's only issue. But great app.\", \"Excellent app, can do everything I need to do at a touch of a button safely and quickly, including paying bills,without having to visit a bank. I also like the instant notification each time money goes out of the account so you can check for fraud. It's just so much more convenient. This makes up for the fact somewhat that there is no longer a Barclays in our town. The only problem comes when having to pay in the odd cheque as the app doesn't work very well when trying to photo a cheque.\", 'The entire partner finance section just crashes the entire app any time you try to do anything. Sometimes even just opening the section of the app is enough to crash it. On the rare occasion I actually make it far enough to make a manual payment the notification to authorise a payment from my account takes the app away from the payment screen, and resets all progress! I literally cannot make a payment without using a different bank!', 'Have found it very useful, and easy to transfer funds either between accounts or to a 3rd party. Pleasantly surprised, as I had been very cautious about online banking of any sort. One aspect that is a pain in the neck is paying in cheques - I have repeatedly failed to persuade the app to take a photo of the cheque concerned! The only suggestion I have been given is to delete the app and reinstall - I have no other equipment on which I can access my accounts, so am unwilling to do this!', \"I didn't want to do online banking, but due to my local bank closing, I had no choice. I should have changed years ago! Everything is very easy. No queuing or going out in bad weather BLISS. I'm a pensioner and was very wary, but you look after my account securely. My only gripe... if you stop my card for any reason, a notification would be very helpful instead of me having to go through all the security system to find out why.\", \"Truly dreadful experience. It may actually worse than HSBC's, but I won't know until I finally get logged in. (I tried to enable biometric authentication, but it locked me out completely instead.) I don't remember the experience being this bad, back in 1999, when I first started using online banking. (Yup-I'm an oldie, whose been programming since 1977. I've no idea what the programmers of today are being taught, but I'm not impressed :-(\", \"Minimise the app & it shuts down. The log out function is well hidden under 'other' tab. Update July '24. Opened a Barclay's bank account in order to take advantage of their switch offer. Downloaded app, opened on line banking. Transfered money in via app, then attempted to pay a bill via the app. Not possible for up to 10 days via the app. Attempted to access account via on line banking. You need the app to verify security. But the app features aren't available for up to 10 days. Crazy.\", \"I am very pleased to see that Barclays has improved the facility for depositing cheques on the App.I am housebound and can't get to a branch, so it is imperative that the App's functions enable me to make full use of my Barclays banking from home. So full marks to Barclays for this improvement. One other problem has arisen in the last few months. Although in theory it is good to verify payments to third parties, the verification process takes far too long and by then transactions get cancelled.\", \"I like the app in general, but there is just one thing that niggles at the moment - paying in cheques. I don't get an error message like a lot of people seem to be getting; instead, my phone camera simply refuses to take a photo of the cheque I want to pay in no matter the background, lighting, flash status, or alignment. Nothing seems to work. Otherwise, a great little app. - I can now pay in cheques withe the phone camera.\", \"Very little information or options available, can't register a card, amend details etc. But you cannot access your account online, so the only way to get a balance, other than phoning, is to install the app. Tried to pay off the balance on my account from my bank, had to authorise on their app. As soon as you leave the Barclays app it closes and you have to log in again, with the payment screen reset. Absolutely impossible to get it done!\", 'Normally a great app, but last couple of days it will not work. I log in and it throws me straight back out and takes me to the log in again. I have tried several things such as updating the software on my phone, updated the app, cleared cache, cleared data and reinstalled app which then required me to register all over again. I have switched from WiFi to my phone data, restarted my phone and closed a couple of tabs in my Internet browser but nothing is working. Web status saying no app issues.', 'Generally good. Any problems I have arise from me getting confused. Edit :- now finding this app easy to use. Just one thing I cannot make a payment later eg for a credit card due date. Payment must always be immediate (unless I am missing something). Since found that I can make a payment for a later date so happy with that.', \"Iv used this for nearly as long as it has been out, with all the improvements since it first started. This application is a massive help with everyday banking. Managing your money could not be easier. However from the 4th Sep you now have to pay to have a savings account.. odd.. there are other banks that dont do this with higher returns, for the first time ever myself and others are starting to look elsewhere. Blue rewards.. not sure it's going to be worth it! Apple TV.. rubbish. You're a bank!\"]\n",
    "#print(review_text)\n",
    "df_reviews = pd.DataFrame(review_text)\n",
    "print(df_reviews)"
   ]
  },
  {
   "cell_type": "markdown",
   "id": "3bb8f39a-393a-4cfc-a987-7f35981c5647",
   "metadata": {},
   "source": [
    "<H1>TEXT PREPROSSING</H1>"
   ]
  },
  {
   "cell_type": "markdown",
   "id": "a18f8006-9c24-469e-8fad-4f826298fdc1",
   "metadata": {},
   "source": [
    "<pre>\n",
    "<b>Steps Explanation:</b>\n",
    "<b>Step :1</b> Convert to Lowercase: Ensure uniformity by converting all text to lowercase.\n",
    "<b>Step :2</b> Remove URLs: Remove any URLs present in the text.\n",
    "<b>Step :3</b> Remove User References and Hashtags: Clean up the text by removing user mentions (e.g., @username) and hashtags.\n",
    "<b>Step :4</b> Remove Punctuation and Numbers: Strip out punctuation and numbers.\n",
    "<b>Step :5</b> Remove Extra Whitespace: Clean up any extra whitespace for better tokenization.\n",
    "<b>Step :6</b> Tokenize Text: Break the text into individual words.\n",
    "<b>Step :7</b> Remove Stopwords: Remove common words that don't add significant meaning (e.g., \"the\", \"is\").\n",
    "<b>Step :8</b> Lemmatize Tokens: Reduce words to their base or root form (e.g., \"running\" to \"run\").\n",
    "<b>Step :9</b> Join Tokens Back to String: Combine the tokens back into a single string for each text entry.\n",
    "</pre>"
   ]
  },
  {
   "cell_type": "markdown",
   "id": "1061b364-45b5-4674-b1b2-4c8049adfe99",
   "metadata": {},
   "source": [
    "<h3>1. PREPORCESSING</h3>"
   ]
  },
  {
   "cell_type": "code",
   "execution_count": 7,
   "id": "f663b614-f9ba-46db-85c2-a55313a447a4",
   "metadata": {},
   "outputs": [],
   "source": [
    "import re\n",
    "import nltk\n",
    "from nltk.tokenize import word_tokenize\n",
    "from nltk.corpus import stopwords\n",
    "from nltk.stem import WordNetLemmatizer\n",
    "\n",
    "from nltk.stem import PorterStemmer\n",
    "\n",
    "# Download necessary resources\n",
    "#nltk.download('punkt')\n",
    "#nltk.download('stopwords')\n",
    "#nltk.download('wordnet')\n",
    "\n",
    "stop_words = set(stopwords.words('english'))\n",
    "lemmatizer = WordNetLemmatizer()\n",
    "\n",
    "val=[]\n",
    "\n",
    "def preprocess_text(text):\n",
    "   \n",
    "    i=0\n",
    "    for individual_text in review_text:\n",
    "    \n",
    "        i=i+1\n",
    "       \n",
    "        #print(\"**************TEXT PREPROCESSING IN NLP*****************\")\n",
    "        #print(i)\n",
    "        #print(\"**************ORIGINAL TEXT*****************\")\n",
    "        #print(individual_text)\n",
    "        \n",
    "        # Step :1 Convert to Lowercase: Ensure uniformity by converting all text to lowercase.\n",
    "        text=individual_text.lower()\n",
    "    \n",
    "        #Step :2 Remove URLs: Remove any URLs present in the text.\n",
    "        text = re.sub(r'http\\S+|www\\S+|https\\S+', '', text, flags=re.MULTILINE)\n",
    "    \n",
    "        #Step :3 Remove User References and Hashtags: Clean up the text by removing user mentions (e.g., @username) and hashtags.\n",
    "        # Remove user @ references and '#'\n",
    "        text = re.sub(r'\\@\\w+|\\#', '', text)\n",
    "    \n",
    "        #Step :4 Remove Punctuation and Numbers: Strip out punctuation and numbers.\n",
    "        text = re.sub(r'[^\\w\\s]', '', text)\n",
    "    \n",
    "        #Step :5 Remove Extra Whitespace: Clean up any extra whitespace for better tokenization.\n",
    "        # Remove extra whitespace\n",
    "        text = re.sub(r'\\s+', ' ', text).strip()\n",
    "        #print(\"PREPROSSED TEXT\")\n",
    "        #print(text)\n",
    "        \n",
    "        #print(\"**************TOKINIZER*****************\")\n",
    "           \n",
    "    \n",
    "        #Step :6 Tokenize Text: Break the text into individual words.\n",
    "        # Tokenize text import (from nltk.tokenize import word_tokenize)\n",
    "        tokens = word_tokenize(text)\n",
    "        #print(tokens)\n",
    "    \n",
    "        #Step :7 Remove Stopwords: Remove common words that don't add significant meaning (e.g., \"the\", \"is\").\n",
    "        # Remove stopwords (from nltk.corpus import stopwords) \n",
    "        filtered_tokens = [word for word in tokens if word not in stop_words]\n",
    "        #print(\"**********************FILTERED TOKEN AFTER STOP WATCH**************\")\n",
    "       # print(filtered_tokens)\n",
    "    \n",
    "        # Stem words\n",
    "        #print(\"**********************STEMMING**************\")\n",
    "        stemmer = PorterStemmer()\n",
    "        stemmed_words = [stemmer.stem(word) for word in tokens]\n",
    "       # print(stemmed_words)\n",
    "    \n",
    "        #Step :8 Lemmatize Tokens: Reduce words to their base or root form (e.g., \"running\" to \"run\").\n",
    "         # Lemmatize tokens\n",
    "        lemmatized_tokens = [lemmatizer.lemmatize(word) for word in tokens]\n",
    "       # print(\"**********************LEMMATIZE**************\")\n",
    "      #  print(lemmatized_tokens)\n",
    "    \n",
    "        #Step :9 Join Tokens Back to String: Combine the tokens back into a single string for each text entry.\n",
    "        # Join tokens back to string\n",
    "        processed_text = ' '.join(lemmatized_tokens)\n",
    "        #print(\"**********************ORIGINAL TEXT AFTER PREPROCESSING**************\")\n",
    "        #print(processed_text)\n",
    "        val.append(processed_text)\n",
    "\n",
    "    return val\n",
    "\n",
    "# Print preprocessed text\n",
    "#for i, text in enumerate(processed_text):\n",
    "#    print(f\"Original Text {i+1}: {review_text[i]}\")\n",
    "#    print(f\"Preprocessed Text {i+1}: {text}\\n\")\n"
   ]
  },
  {
   "cell_type": "code",
   "execution_count": 8,
   "id": "0a3577aa-9696-455c-8df4-04c90d6f14b7",
   "metadata": {},
   "outputs": [],
   "source": [
    "Text_12=preprocess_text(review_text)\n"
   ]
  },
  {
   "cell_type": "code",
   "execution_count": 9,
   "id": "9ab43c27-ef22-4717-9872-703984db214d",
   "metadata": {},
   "outputs": [],
   "source": [
    "#pip install TextBlob"
   ]
  },
  {
   "cell_type": "code",
   "execution_count": 10,
   "id": "ae00c99a-a854-4b17-8754-311787d6b5e4",
   "metadata": {},
   "outputs": [
    {
     "name": "stdout",
     "output_type": "stream",
     "text": [
      "Original Text --> very difficult to switch to another device even if you have the old one present it crashed during the process failed to generate an activation code failed to read the debit card and then forced me to photo my driver license and record a video and still didnt complete the setup frustrating bad that said when it is setup it is adequate at providing basic banking functionality: negative\n",
      "=================\n",
      "Original Text --> hilariously bad banking app if you view a different app while doing something say to coppy bank detail or whatever this app cancel whatever you were trying to do and either close or return to the home screen you cant longpress to paste either so you need to make use of your phone keyboard app and copy everything you need to the clipboard in advance it a comedy bad user experience: negative\n",
      "=================\n",
      "Original Text --> very buggy constant something went wrong it wont be worth paying for blue reward at this rate because something went wrong with cashback something went wrong with appletv not seen much going right app also close or go back whenever you change to another screen which is frustrating and other banking apps dont do this it ha got even worse i signed up for the current account switch now when i open the app it doesnt seem to remember the account i just opened: negative\n",
      "=================\n",
      "Original Text --> stay away from this bank you will regret to be a customer of barclays every time you need to get a service so secure that is annoying can not copy entered text from the input view can not past the text when switch to another app and come back input is erased and chat is lost no ability to edit text after it is sent horrible application and horrible service representative asking the same question every time in barclays uk i had the worst banking experience in my life: negative\n",
      "=================\n",
      "Original Text --> just ok it too long to log in payee keep dropping from the trusted payee list it very annoying i pay someone different amount every month and his name and detail keep dropping off the list smart investor side of the app is basic and doesnt have all the feature of online banking it also doesnt compare well with other investment apps card control feature very basic too app could be much improved but i havent seen any significant change for the past few year: negative\n",
      "=================\n",
      "Original Text --> i didnt want to do online banking but due to my local bank closing i had no choice i should have changed year ago everything is very easy no queuing or going out in bad weather bliss im a pensioner and wa very wary but you look after my account securely my only gripe if you stop my card for any reason a notification would be very helpful instead of me having to go through all the security system to find out why: negative\n",
      "=================\n",
      "Original Text --> truly dreadful experience it may actually worse than hsbcs but i wont know until i finally get logged in i tried to enable biometric authentication but it locked me out completely instead i dont remember the experience being this bad back in 1999 when i first started using online banking yupim an oldie whose been programming since 1977 ive no idea what the programmer of today are being taught but im not impressed: negative\n",
      "=================\n",
      "Original Text --> minimise the app it shuts down the log out function is well hidden under other tab update july 24 opened a barclays bank account in order to take advantage of their switch offer downloaded app opened on line banking transfered money in via app then attempted to pay a bill via the app not possible for up to 10 day via the app attempted to access account via on line banking you need the app to verify security but the app feature arent available for up to 10 day crazy: negative\n",
      "=================\n",
      "Original Text --> very little information or option available cant register a card amend detail etc but you can not access your account online so the only way to get a balance other than phoning is to install the app tried to pay off the balance on my account from my bank had to authorise on their app a soon a you leave the barclays app it close and you have to log in again with the payment screen reset absolutely impossible to get it done: negative\n",
      "=================\n"
     ]
    }
   ],
   "source": [
    "from textblob import TextBlob\n",
    "\n",
    "def get_sentiment_textblob(processed_text):\n",
    "    analysis = TextBlob(processed_text)\n",
    "    #print(analysis.sentiment)\n",
    "    if analysis.sentiment.polarity > 0:\n",
    "        return 'positive'\n",
    "    elif analysis.sentiment.polarity == 0:\n",
    "        return 'neutral'\n",
    "    else:\n",
    "        return 'negative'\n",
    "\n",
    "for values in Text_12:\n",
    "    if(get_sentiment_textblob(values)=='negative'):\n",
    "        #print(f\"Original Text --> {values}: {get_sentiment_textblob(values)}\")\n",
    "        print(f\"Original Text --> {values}: {get_sentiment_textblob(values)}\")\n",
    "        print(\"=================\")\n"
   ]
  },
  {
   "cell_type": "markdown",
   "id": "d46e859b-510c-4180-952e-b8212c29ad9b",
   "metadata": {},
   "source": [
    "<h5>2. Custom words from TextBold</h5>"
   ]
  },
  {
   "cell_type": "code",
   "execution_count": 12,
   "id": "9af38837-eb07-48a6-9d9d-d3d17dca5d33",
   "metadata": {},
   "outputs": [],
   "source": [
    "#pip install pattern"
   ]
  },
  {
   "cell_type": "code",
   "execution_count": 13,
   "id": "f6686f44-137e-4319-8b0e-b14e44867fd9",
   "metadata": {},
   "outputs": [
    {
     "name": "stdout",
     "output_type": "stream",
     "text": [
      " 0.7\n",
      " -0.7\n",
      " -1.4\n",
      " 0\n",
      " -2.8\n",
      " 0\n",
      " 0\n",
      " 3.4000000000000004\n",
      " 0.8\n",
      " 0.9\n",
      " 0\n",
      " 0\n",
      " -0.7\n",
      " -0.7\n",
      " 0\n",
      " 0.7\n",
      " 0.8\n",
      " 0\n",
      " 0.8\n",
      " 0.7\n",
      " 0\n"
     ]
    }
   ],
   "source": [
    "custom_lexicon = {\n",
    "    'positive': {\n",
    "        'good': 0.7,\n",
    "        'great': 0.8,\n",
    "        'excellent': 0.9,\n",
    "        'amazing': 1.0,\n",
    "        'wonderful': 0.9\n",
    "    },\n",
    "    'negative': {\n",
    "        'bad': -0.7,\n",
    "        'terrible': -0.8,\n",
    "        'horrible': -0.9,\n",
    "        'poor': -0.5,\n",
    "        'worst': -1.0\n",
    "    }\n",
    "}\n",
    "\n",
    "positive_val=0\n",
    "def custom_sentiment_analysis(text, lexicon):\n",
    "    words = text.lower().split()\n",
    "    polarity_score = 0\n",
    "    for word in words:\n",
    "        if word in lexicon['positive']:\n",
    "            polarity_score += lexicon['positive'][word]\n",
    "        elif word in lexicon['negative']:\n",
    "            polarity_score += lexicon['negative'][word]\n",
    "    return polarity_score\n",
    "\n",
    "# Example usage\n",
    "#text = \"The product is amazing but the service is horrible.\"\n",
    "#score = custom_sentiment_analysis(text, custom_lexicon)\n",
    "#print(f\"Custom polarity score: {score}\")\n",
    "\n",
    "#print(positive_val)\n",
    "\n",
    "for values_custom in Text_12:\n",
    "   # if(custom_sentiment_analysis(values_custom,custom_lexicon)=='negative'):\n",
    "        #print(f\"Original Text --> {values_custom}: {custom_sentiment_analysis(values_custom,custom_lexicon)}\")\n",
    "        #print(\"=================\")\n",
    "        print(f\" {custom_sentiment_analysis(values_custom,custom_lexicon)}\")\n",
    "       \n"
   ]
  },
  {
   "cell_type": "code",
   "execution_count": 75,
   "id": "63c6a369-79b9-475b-a4c6-f4342b43a83b",
   "metadata": {},
   "outputs": [
    {
     "data": {
      "text/plain": [
       "{'PositiveFeedbackCount': 6,\n",
       " 'NegativeFeedbackCount': 11,\n",
       " 'NeutralFeedbackCount': 3,\n",
       " 'OverallFeedback': 'negative'}"
      ]
     },
     "execution_count": 75,
     "metadata": {},
     "output_type": "execute_result"
    }
   ],
   "source": [
    "feedbacks=[\"neutral\",\"Positive\",\"negative\",\"negative\",\"negative\",\"negative\",\"negative\",\"negative\",\"negative\",\"negative\",\"negative\",\"Positive\",\"Positive\",\"Positive\",\"Positive\",\"Positive\",\"negative\",\"negative\",\"neutral\",\"neutral\"]\n",
    "\n",
    "def get_overall_feedback(feedbacks):\n",
    "    \n",
    "    positive_count=0\n",
    "    negative_count=0\n",
    "    neutral_count=0\n",
    "    \n",
    "    for ind in feedbacks:\n",
    "        if(ind.lower()==\"positive\"):\n",
    "            positive_count=positive_count+1\n",
    "        elif(ind.lower()==\"negative\"):\n",
    "            negative_count=negative_count+1\n",
    "        else:\n",
    "            neutral_count=neutral_count+1\n",
    "        \n",
    "        #print(ind.lower())\n",
    "        sentiment_val=\"\"\n",
    "        if(positive_count>=negative_count and positive_count>=neutral_count):\n",
    "            sentiment_val=\"positive\"        \n",
    "        elif(negative_count>=positive_count and negative_count>=neutral_count):\n",
    "            sentiment_val=\"negative\"    \n",
    "        else:\n",
    "            sentiment_val=\"neutral\"    \n",
    "            \n",
    "    #print(positive_count)\n",
    "    #print(negative_count)\n",
    "    #print(neutral_count)\n",
    "    #print(sentiment_val)\n",
    "    keys = ['PositiveFeedbackCount', 'NegativeFeedbackCount', 'NeutralFeedbackCount','OverallFeedback']\n",
    "    values = [positive_count, negative_count, neutral_count,sentiment_val]\n",
    "\n",
    "    my_dict = {}\n",
    "    \n",
    "    for key, value in zip(keys, values):\n",
    "        my_dict[key] = value\n",
    "    \n",
    "    #print(my_dict)\n",
    "    return my_dict\n",
    "get_overall_feedback(feedbacks)"
   ]
  },
  {
   "cell_type": "code",
   "execution_count": 9,
   "id": "846279d1-4c97-4605-96a4-68953ff83a4d",
   "metadata": {},
   "outputs": [
    {
     "data": {
      "image/png": "[encoded data removed]",
      "text/plain": [
       "<Figure size 640x480 with 1 Axes>"
      ]
     },
     "metadata": {},
     "output_type": "display_data"
    }
   ],
   "source": [
    "import matplotlib.pyplot as plt\n",
    "import io\n",
    "import base64\n",
    "# Data to plot\n",
    "labels = 'Positive', 'Negative', 'Neutral'\n",
    "sizes = [10, 10, 0]\n",
    "colors = ['gold', 'lightcoral', 'lightskyblue']\n",
    "explode = (0.1, 0, 0)  # explode 1st slice (Positive)\n",
    "\n",
    "# Plot the pie chart\n",
    "plt.pie(sizes, explode=explode, labels=labels, colors=colors,\n",
    "autopct='%1.1f%%', shadow=True, startangle=140)\n",
    "\n",
    "\n",
    "\n",
    "plt.axis('equal')  # Equal aspect ratio ensures that pie is drawn as a circle.\n",
    "\n",
    "plt.title('Sentiment Analysis of Comments')\n",
    "plt.show()"
   ]
  },
  {
   "cell_type": "code",
   "execution_count": null,
   "id": "c4150ffd-66e7-4a97-941d-43a74a3132af",
   "metadata": {},
   "outputs": [],
   "source": []
  }
 ],
 "metadata": {
  "kernelspec": {
   "display_name": "Python 3 (ipykernel)",
   "language": "python",
   "name": "python3"
  },
  "language_info": {
   "codemirror_mode": {
    "name": "ipython",
    "version": 3
   },
   "file_extension": ".py",
   "mimetype": "text/x-python",
   "name": "python",
   "nbconvert_exporter": "python",
   "pygments_lexer": "ipython3",
   "version": "3.12.4"
  }
 },
 "nbformat": 4,
 "nbformat_minor": 5
}
